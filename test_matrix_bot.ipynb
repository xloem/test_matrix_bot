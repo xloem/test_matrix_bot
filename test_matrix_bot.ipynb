{
  "nbformat": 4,
  "nbformat_minor": 0,
  "metadata": {
    "colab": {
      "provenance": [],
      "authorship_tag": "ABX9TyP99tT9WGC0jl682bbZb+r7",
      "include_colab_link": true
    },
    "kernelspec": {
      "name": "python3",
      "display_name": "Python 3"
    },
    "language_info": {
      "name": "python"
    }
  },
  "cells": [
    {
      "cell_type": "markdown",
      "metadata": {
        "id": "view-in-github",
        "colab_type": "text"
      },
      "source": [
        "<a href=\"https://colab.research.google.com/github/xloem/test_matrix_bot/blob/main/test_matrix_bot.ipynb\" target=\"_parent\"><img src=\"https://colab.research.google.com/assets/colab-badge.svg\" alt=\"Open In Colab\"/></a>"
      ]
    },
    {
      "cell_type": "code",
      "execution_count": null,
      "metadata": {
        "id": "0HW8qgMoEzfA"
      },
      "outputs": [],
      "source": [
        "!pip3 install matrix_bot_api\n",
        "!git clone https://github.com/xloem/test_matrix_bot\n",
        "!ln -s test_matrix_bot/* ."
      ]
    },
    {
      "cell_type": "code",
      "source": [
        "from test_matrix_bot import Bot\n",
        "import logging\n",
        "logging.basicConfig(level=logging.DEBUG)\n",
        "bot = Bot()\n",
        "bot.wait()"
      ],
      "metadata": {
        "colab": {
          "base_uri": "https://localhost:8080/"
        },
        "id": "A8I7-8qVGX9l",
        "outputId": "42c5bac7-2818-40fa-dc4b-502ecd5a3fd8"
      },
      "execution_count": null,
      "outputs": [
        {
          "output_type": "stream",
          "name": "stderr",
          "text": [
            "ERROR:services:<service_matrix.Matrix object at 0x7f5038c91490> #test-bot:matrix.org $166567743772662PIcJB:matrix.org @xloem:matrix.org message raise%exception reply=None\n",
            "ERROR:services:Traceback (most recent call last):\n",
            "ERROR:services:  File \"/content/services.py\", line 59, in _on_event\n",
            "ERROR:services:    self.on_other(event)\n",
            "ERROR:services:  File \"/content/services.py\", line 39, in on_other\n",
            "ERROR:services:    self.on_message(event)\n",
            "ERROR:services:  File \"/content/test_matrix_bot.py\", line 29, in on_message\n",
            "ERROR:services:    raise Exception(f\"{msg.sender} asked me to raise this but I'm worried about it.\")\n",
            "ERROR:services:Exception: @xloem:matrix.org asked me to raise this but I'm worried about it.\n",
            "ERROR:services:\n",
            "ERROR:services:<service_matrix.Matrix object at 0x7f503a4c0950> #test-bot:matrix.org $166567743772662PIcJB:matrix.org @xloem:matrix.org message raise%exception reply=None\n",
            "ERROR:services:Traceback (most recent call last):\n",
            "ERROR:services:  File \"/content/services.py\", line 59, in _on_event\n",
            "ERROR:services:    self.on_other(event)\n",
            "ERROR:services:  File \"/content/services.py\", line 39, in on_other\n",
            "ERROR:services:    self.on_message(event)\n",
            "ERROR:services:  File \"/content/test_matrix_bot.py\", line 29, in on_message\n",
            "ERROR:services:    raise Exception(f\"{msg.sender} asked me to raise this but I'm worried about it.\")\n",
            "ERROR:services:Exception: @xloem:matrix.org asked me to raise this but I'm worried about it.\n",
            "ERROR:services:\n"
          ]
        }
      ]
    }
  ]
}